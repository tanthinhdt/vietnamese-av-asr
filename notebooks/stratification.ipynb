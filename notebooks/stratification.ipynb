{
 "cells": [
  {
   "cell_type": "markdown",
   "metadata": {},
   "source": [
    "# Get metadata"
   ]
  },
  {
   "cell_type": "code",
   "execution_count": null,
   "metadata": {},
   "outputs": [],
   "source": [
    "import pandas as pd\n",
    "import seaborn as sns\n",
    "import matplotlib.pyplot as plt\n",
    "from pathlib import Path\n",
    "\n",
    "def visualize_sent_len(df: pd.DataFrame):\n",
    "    sequence_lengths = df[\"sent_len\"].tolist()\n",
    "    plt.figure(figsize=(10, 6))\n",
    "    sns.histplot(sequence_lengths, bins=list(set(sequence_lengths)), kde=False)\n",
    "    plt.xlabel('Number of Words in an Example')\n",
    "    plt.ylabel('Frequency')\n",
    "    plt.show()\n",
    "\n",
    "data_dir = Path.cwd().parent / \"data\"\n",
    "metadata_df = pd.read_parquet(data_dir / \"processed/vasr/metadata.parquet\")\n",
    "mapping_df = pd.read_json(data_dir / \"processed/vasr/mapping.json\", dtype={\"id\": str, \"shard\": str})\n",
    "df = metadata_df.merge(mapping_df, on=[\"id\", \"shard\", \"split\"])\n",
    "train_df = df[df[\"split\"] == \"train\"]\n",
    "train_df[\"sent_len\"] = train_df[\"transcript\"].apply(lambda x: len(x.split()))\n",
    "len(train_df)"
   ]
  },
  {
   "cell_type": "code",
   "execution_count": null,
   "metadata": {},
   "outputs": [],
   "source": [
    "visualize_sent_len(train_df)"
   ]
  },
  {
   "cell_type": "markdown",
   "metadata": {},
   "source": [
    "# Stratification"
   ]
  },
  {
   "cell_type": "code",
   "execution_count": null,
   "metadata": {},
   "outputs": [],
   "source": [
    "frac = 0.1\n",
    "train_df = train_df.groupby(\"channel\", group_keys=False).apply(\n",
    "    lambda x: x.sample(frac=frac)\n",
    ")\n",
    "len(train_df)"
   ]
  },
  {
   "cell_type": "code",
   "execution_count": null,
   "metadata": {},
   "outputs": [],
   "source": [
    "visualize_sent_len(train_df)"
   ]
  }
 ],
 "metadata": {
  "kernelspec": {
   "display_name": "vasr",
   "language": "python",
   "name": "python3"
  },
  "language_info": {
   "codemirror_mode": {
    "name": "ipython",
    "version": 3
   },
   "file_extension": ".py",
   "mimetype": "text/x-python",
   "name": "python",
   "nbconvert_exporter": "python",
   "pygments_lexer": "ipython3",
   "version": "3.9.19"
  }
 },
 "nbformat": 4,
 "nbformat_minor": 2
}
