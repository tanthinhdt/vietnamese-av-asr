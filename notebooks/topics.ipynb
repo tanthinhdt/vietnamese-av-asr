{
 "cells": [
  {
   "cell_type": "markdown",
   "id": "cb951125",
   "metadata": {},
   "source": [
    "# Get metadata"
   ]
  },
  {
   "cell_type": "code",
   "execution_count": null,
   "id": "12fd7c93-7f76-4618-be45-d23d711e20d2",
   "metadata": {},
   "outputs": [],
   "source": [
    "import pandas as pd\n",
    "import seaborn as sns\n",
    "import matplotlib.pyplot as plt\n",
    "from pathlib import Path\n",
    "\n",
    "data_dir = Path.cwd().parent / \"data\"\n",
    "metadata_df = pd.read_parquet(data_dir / \"processed/vasr/metadata.parquet\")\n",
    "mapping_df = pd.read_json(data_dir / \"processed/vasr/mapping.json\", dtype={\"id\": str, \"shard\": str})\n",
    "df = metadata_df.merge(mapping_df, on=[\"id\", \"shard\", \"split\"])\n",
    "df"
   ]
  },
  {
   "cell_type": "markdown",
   "id": "2e70384b",
   "metadata": {},
   "source": [
    "## Get split"
   ]
  },
  {
   "cell_type": "code",
   "execution_count": null,
   "id": "ea14b6e6",
   "metadata": {},
   "outputs": [],
   "source": [
    "split = \"train\"\n",
    "df = df[df[\"split\"] == split]\n",
    "df"
   ]
  },
  {
   "cell_type": "markdown",
   "id": "d388b450",
   "metadata": {},
   "source": [
    "## Get training subset"
   ]
  },
  {
   "cell_type": "code",
   "execution_count": null,
   "id": "8de5fd51",
   "metadata": {},
   "outputs": [],
   "source": [
    "hour = 200\n",
    "manifest_file = data_dir / f\"processed/vasr/{hour}h/train.tsv\"\n",
    "subset_ids = []\n",
    "with open(manifest_file, \"r\") as f:\n",
    "    _ = f.readline()\n",
    "    for line in f:\n",
    "        subset_ids.append(line.split()[0].split(\"-\")[0])\n",
    "df = df[df[\"id\"].isin(subset_ids)]\n",
    "df"
   ]
  },
  {
   "cell_type": "markdown",
   "id": "55f1a7cb",
   "metadata": {},
   "source": [
    "# Count examples"
   ]
  },
  {
   "cell_type": "code",
   "execution_count": null,
   "id": "cbc1f2ca",
   "metadata": {},
   "outputs": [],
   "source": [
    "count_df = df.groupby(\"topic\").size().sort_values(ascending=False).reset_index(name=\"count\")\n",
    "count_df[\"percent\"] = count_df[\"count\"] / count_df[\"count\"].sum()\n",
    "count_df"
   ]
  },
  {
   "cell_type": "code",
   "execution_count": null,
   "id": "6c7f6618",
   "metadata": {},
   "outputs": [],
   "source": [
    "subject = \"200h\"\n",
    "count_df.to_csv(Path.cwd().parent / f\"docs/vasr/topic_distribution_{subject}.csv\", index=False)"
   ]
  },
  {
   "cell_type": "markdown",
   "id": "38170fd6",
   "metadata": {},
   "source": [
    "# Plot pie chart"
   ]
  },
  {
   "cell_type": "code",
   "execution_count": null,
   "id": "218b978a-3778-4984-a129-f9e3e732945d",
   "metadata": {},
   "outputs": [],
   "source": [
    "topic_counts = df[\"topic\"].value_counts(dropna=False)\n",
    "\n",
    "colors = sns.color_palette(\"husl\", len(topic_counts))\n",
    "labels = topic_counts.index.tolist()\n",
    "sizes = topic_counts.values.tolist()\n",
    "\n",
    "fig, ax = plt.subplots(figsize=(10, 8))\n",
    "wedges, texts, autotexts = ax.pie(sizes, colors=colors, autopct=\"%1.1f%%\", startangle=140)\n",
    "ax.legend(wedges, labels, title=\"Topics\", loc=\"center left\", bbox_to_anchor=(1, 0, 0.5, 1))\n",
    "plt.axis(\"equal\")\n",
    "\n",
    "plt.show()"
   ]
  },
  {
   "cell_type": "code",
   "execution_count": null,
   "id": "38f0915a",
   "metadata": {},
   "outputs": [],
   "source": [
    "subject = \"200h\"\n",
    "plt.savefig(Path.cwd().parent / f\"docs/vasr/topic_distribution_{subject}.png\", bbox_inches=\"tight\")"
   ]
  }
 ],
 "metadata": {
  "kernelspec": {
   "display_name": "Python 3 (ipykernel)",
   "language": "python",
   "name": "python3"
  },
  "language_info": {
   "codemirror_mode": {
    "name": "ipython",
    "version": 3
   },
   "file_extension": ".py",
   "mimetype": "text/x-python",
   "name": "python",
   "nbconvert_exporter": "python",
   "pygments_lexer": "ipython3",
   "version": "3.9.19"
  }
 },
 "nbformat": 4,
 "nbformat_minor": 5
}
